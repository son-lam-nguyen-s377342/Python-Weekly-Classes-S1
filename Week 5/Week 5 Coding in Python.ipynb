{
 "cells": [
  {
   "cell_type": "code",
   "execution_count": 1,
   "metadata": {},
   "outputs": [],
   "source": [
    "def sum(lower,upper):\n",
    "    result = 0\n",
    "    while lower<=upper:\n",
    "        result += lower\n",
    "        lower += 1\n",
    "    return result"
   ]
  },
  {
   "cell_type": "code",
   "execution_count": 4,
   "metadata": {},
   "outputs": [
    {
     "data": {
      "text/plain": [
       "3825"
      ]
     },
     "execution_count": 4,
     "metadata": {},
     "output_type": "execute_result"
    }
   ],
   "source": [
    "sum(50,100)"
   ]
  },
  {
   "cell_type": "code",
   "execution_count": 7,
   "metadata": {},
   "outputs": [
    {
     "ename": "NameError",
     "evalue": "name 'x' is not defined",
     "output_type": "error",
     "traceback": [
      "\u001b[1;31m---------------------------------------------------------------------------\u001b[0m",
      "\u001b[1;31mNameError\u001b[0m                                 Traceback (most recent call last)",
      "Cell \u001b[1;32mIn[7], line 1\u001b[0m\n\u001b[1;32m----> 1\u001b[0m \u001b[38;5;28mabs\u001b[39m(\u001b[43mx\u001b[49m)\n\u001b[0;32m      2\u001b[0m \u001b[38;5;28mmax\u001b[39m(x,y)\n",
      "\u001b[1;31mNameError\u001b[0m: name 'x' is not defined"
     ]
    }
   ],
   "source": [
    "abs(x)\n",
    "max(x,y)"
   ]
  },
  {
   "cell_type": "code",
   "execution_count": 11,
   "metadata": {},
   "outputs": [
    {
     "name": "stdout",
     "output_type": "stream",
     "text": [
      "5\n",
      "6\n",
      "7\n",
      "8\n",
      "9\n",
      "10\n"
     ]
    }
   ],
   "source": [
    "def main():\n",
    "    lower = int(input(\"enter lower: \"))\n",
    "    upper = int(input(\"enter upper: \"))\n",
    "    displayrange(lower, upper)\n",
    "def displayrange(lower,upper):\n",
    "    #while lower <= upper:\n",
    "    if lower <= upper:\n",
    "        print(lower)\n",
    "        #lower = lower +1\n",
    "        displayrange(lower+1, upper)\n",
    "main()"
   ]
  },
  {
   "cell_type": "code",
   "execution_count": 2,
   "metadata": {},
   "outputs": [],
   "source": [
    "def lprint(n):\n",
    "    for i in range(1, n+1):\n",
    "        print(i)"
   ]
  },
  {
   "cell_type": "code",
   "execution_count": 3,
   "metadata": {},
   "outputs": [
    {
     "name": "stdout",
     "output_type": "stream",
     "text": [
      "1\n",
      "2\n",
      "3\n"
     ]
    }
   ],
   "source": [
    "lprint(3)"
   ]
  },
  {
   "cell_type": "code",
   "execution_count": 4,
   "metadata": {},
   "outputs": [],
   "source": [
    "def sum(lower, upper):\n",
    "    result = 0\n",
    "    while lower <= upper:\n",
    "        result += lower\n",
    "        lower += 1\n",
    "    return result"
   ]
  },
  {
   "cell_type": "code",
   "execution_count": 6,
   "metadata": {},
   "outputs": [
    {
     "data": {
      "text/plain": [
       "0"
      ]
     },
     "execution_count": 6,
     "metadata": {},
     "output_type": "execute_result"
    }
   ],
   "source": [
    "sum (5,4)"
   ]
  },
  {
   "cell_type": "code",
   "execution_count": 7,
   "metadata": {},
   "outputs": [
    {
     "data": {
      "text/plain": [
       "6"
      ]
     },
     "execution_count": 7,
     "metadata": {},
     "output_type": "execute_result"
    }
   ],
   "source": [
    "max(5,6)"
   ]
  },
  {
   "cell_type": "code",
   "execution_count": 13,
   "metadata": {},
   "outputs": [
    {
     "ename": "NameError",
     "evalue": "name 'n' is not defined",
     "output_type": "error",
     "traceback": [
      "\u001b[1;31m---------------------------------------------------------------------------\u001b[0m",
      "\u001b[1;31mNameError\u001b[0m                                 Traceback (most recent call last)",
      "Cell \u001b[1;32mIn[13], line 1\u001b[0m\n\u001b[1;32m----> 1\u001b[0m \u001b[38;5;28mabs\u001b[39m(\u001b[38;5;241m10\u001b[39m\u001b[38;5;241m-\u001b[39m\u001b[43mn\u001b[49m)\n\u001b[0;32m      3\u001b[0m \u001b[38;5;28minput\u001b[39m(\u001b[38;5;124m'\u001b[39m\u001b[38;5;124mEnter a number: \u001b[39m\u001b[38;5;124m'\u001b[39m)\n",
      "\u001b[1;31mNameError\u001b[0m: name 'n' is not defined"
     ]
    }
   ],
   "source": [
    "abs(10-n)\n",
    "\n",
    "input('Enter a number: ')"
   ]
  },
  {
   "cell_type": "code",
   "execution_count": 16,
   "metadata": {},
   "outputs": [
    {
     "data": {
      "text/plain": [
       "10"
      ]
     },
     "execution_count": 16,
     "metadata": {},
     "output_type": "execute_result"
    }
   ],
   "source": [
    "round(9.75)"
   ]
  },
  {
   "cell_type": "code",
   "execution_count": 17,
   "metadata": {},
   "outputs": [
    {
     "name": "stdout",
     "output_type": "stream",
     "text": [
      "5\n",
      "6\n",
      "7\n",
      "8\n",
      "9\n",
      "10\n"
     ]
    }
   ],
   "source": [
    "def main():\n",
    "    lower = int(input(\"enter lower: \"))\n",
    "    upper = int(input(\"enter upper: \"))\n",
    "    displayrange(lower,upper)\n",
    "def displayrange(lower,upper):\n",
    "    while lower <= upper:\n",
    "        print(lower)\n",
    "        lower = lower+1\n",
    "main()"
   ]
  },
  {
   "cell_type": "code",
   "execution_count": 19,
   "metadata": {},
   "outputs": [
    {
     "name": "stdout",
     "output_type": "stream",
     "text": [
      "The largest number is: 3\n",
      "The smallest number is: 1\n"
     ]
    }
   ],
   "source": [
    "first = int(input(\"Enter the first number: \"))  # User inputs the first number\n",
    "second = int(input(\"Enter the second number: \"))  # User inputs the second number\n",
    "third = int(input(\"Enter the third number: \"))  # User inputs the third number\n",
    "\n",
    "# Using built-in functions to find the maximum and minimum of the three numbers\n",
    "print(\"The largest number is:\", max(first, second, third))  # Print the largest number\n",
    "print(\"The smallest number is:\", min(first, second, third)) "
   ]
  },
  {
   "cell_type": "code",
   "execution_count": 10,
   "metadata": {},
   "outputs": [
    {
     "data": {
      "text/plain": [
       "2"
      ]
     },
     "execution_count": 10,
     "metadata": {},
     "output_type": "execute_result"
    }
   ],
   "source": [
    "min(6,2)"
   ]
  },
  {
   "cell_type": "code",
   "execution_count": 20,
   "metadata": {},
   "outputs": [
    {
     "name": "stdout",
     "output_type": "stream",
     "text": [
      "1 3 5 7 9 11 \n",
      "\n",
      "10 8 6 4 2 0 \n",
      "\n"
     ]
    }
   ],
   "source": [
    "# First number set (increasing by 2 each time)\n",
    "first_number_set = 1\n",
    "for each_pass in range(6):\n",
    "    print(first_number_set, end=\" \")\n",
    "    first_number_set = first_number_set + 2\n",
    "print(\"\\n\")  # Line break\n",
    "\n",
    "# Second number set (decreasing by 2 each time)\n",
    "second_number_set = 11 - 1\n",
    "for each_pass in range(6):\n",
    "    print(second_number_set, end=\" \")\n",
    "    second_number_set = second_number_set - 2\n",
    "print(\"\\n\")  # Line break\n"
   ]
  },
  {
   "cell_type": "code",
   "execution_count": 21,
   "metadata": {},
   "outputs": [
    {
     "name": "stdout",
     "output_type": "stream",
     "text": [
      "1 3 5 7 9 11 \n",
      "\n",
      "10 8 6 4 2 0 "
     ]
    }
   ],
   "source": [
    "# Printing the first sequence (increasing by 2 each time)\n",
    "for top in range(1, 12, 2):\n",
    "    print(top, end=\" \")\n",
    "print(\"\\n\")  # Line break after printing the first sequence\n",
    "\n",
    "# Printing the second sequence (decreasing by 2 each time)\n",
    "for bot in range(10, -1, -2):\n",
    "    print(bot, end=\" \")\n"
   ]
  },
  {
   "cell_type": "code",
   "execution_count": 23,
   "metadata": {},
   "outputs": [
    {
     "name": "stdout",
     "output_type": "stream",
     "text": [
      "There are 4 odd numbers.\n",
      "There are 6 even numbers.\n"
     ]
    }
   ],
   "source": [
    "# Initialize counters for even and odd numbers\n",
    "even = 0\n",
    "odd = 0\n",
    "\n",
    "# Loop to accept 10 numbers from the user\n",
    "for eachPass in range(10):\n",
    "    number = int(input(\"Enter number: \"))\n",
    "\n",
    "    # Check if the number is even or odd\n",
    "    if (number % 2) == 0:\n",
    "        even += 1  # Increment even counter if the number is even\n",
    "    else:\n",
    "        odd += 1  # Increment odd counter if the number is odd\n",
    "\n",
    "# Print the count of odd and even numbers\n",
    "print(\"There are\", odd, \"odd numbers.\")\n",
    "print(\"There are\", even, \"even numbers.\")\n"
   ]
  },
  {
   "cell_type": "code",
   "execution_count": 24,
   "metadata": {},
   "outputs": [
    {
     "name": "stdout",
     "output_type": "stream",
     "text": [
      "October has 31 Days.\n"
     ]
    }
   ],
   "source": [
    "Days28=['February']\n",
    "Days30=['April', 'June', 'September', 'November']\n",
    "Days31=['January', 'March', 'May', 'July', 'August', 'October',\n",
    "'December']\n",
    "month=input(\"Please input 1 of the 12 months of the year : \")\n",
    "if month in (Days28):\n",
    "    print(month, \"has 28 Days excluding leap years.\")\n",
    "if month in (Days30):\n",
    "    print(month, \"has 30 Days.\")\n",
    "if month in (Days31):\n",
    "    print(month, \"has 31 Days.\")\n",
    "else:\n",
    "    print(\"Please input a valid month.\")"
   ]
  },
  {
   "cell_type": "code",
   "execution_count": 25,
   "metadata": {},
   "outputs": [
    {
     "name": "stdout",
     "output_type": "stream",
     "text": [
      "Number of days: 31 days\n"
     ]
    }
   ],
   "source": [
    "# Prompt the user to enter a month name\n",
    "month = input(\"Please enter the month name: \")\n",
    "\n",
    "# Determine the number of days based on the input month\n",
    "if month == \"February\":\n",
    "    print(\"Number of days: 28/29 days\")\n",
    "elif month in (\"April\", \"June\", \"September\", \"November\"):\n",
    "    print(\"Number of days: 30 days\")\n",
    "elif month in (\"January\", \"March\", \"May\", \"July\", \"August\", \"October\", \"December\"):\n",
    "    print(\"Number of days: 31 days\")\n",
    "else:\n",
    "    print(\"Please enter a valid month name.\")\n"
   ]
  },
  {
   "cell_type": "code",
   "execution_count": 29,
   "metadata": {},
   "outputs": [
    {
     "name": "stdout",
     "output_type": "stream",
     "text": [
      "1 \n",
      "\n",
      "1 2 \n",
      "\n",
      "1 2 3 \n",
      "\n",
      "1 2 3 4 \n",
      "\n",
      "1 2 3 4 5 \n",
      "\n"
     ]
    }
   ],
   "source": [
    "a = []  \n",
    "for i in range(1, 6):\n",
    "    a.append(i)\n",
    "    for j in range(len(a)):\n",
    "        print(a[j], end=\" \")  # Print each number followed by a space\n",
    "    print('\\n')  # Move to the next line after printing each number\n"
   ]
  },
  {
   "cell_type": "code",
   "execution_count": 2,
   "metadata": {},
   "outputs": [
    {
     "name": "stdout",
     "output_type": "stream",
     "text": [
      "10 is not in the range [4, 9]\n"
     ]
    }
   ],
   "source": [
    "def number_in_range(num, start, end):\n",
    "    return start <= num <= end\n",
    "num = 10\n",
    "start = 4\n",
    "end = 9\n",
    "if number_in_range (num, start, end):\n",
    "    print(f\"{num} is in the range [{start}, {end}]\")\n",
    "else:\n",
    "    print(f\"{num} is not in the range [{start}, {end}]\")"
   ]
  },
  {
   "cell_type": "code",
   "execution_count": 10,
   "metadata": {},
   "outputs": [
    {
     "name": "stdout",
     "output_type": "stream",
     "text": [
      "No. of Upper case characters: 3\n",
      "No. of Lower case characters: 9\n"
     ]
    }
   ],
   "source": [
    "\n",
    "def count_upper_lower(input_string):\n",
    "    upper_count = 0\n",
    "    lower_count = 0\n",
    "    for char in input_string:\n",
    "        if char.isupper():\n",
    "            upper_count +=1\n",
    "        elif char.islower():\n",
    "            lower_count +=1\n",
    "    return upper_count, lower_count\n",
    "\n",
    "sample_string = input('Please enter a string: ')\n",
    "\n",
    "upper_count, lower_count = count_upper_lower(sample_string)\n",
    "print(f\"No. of Upper case characters: {upper_count}\")\n",
    "print(f\"No. of Lower case characters: {lower_count}\")"
   ]
  },
  {
   "cell_type": "code",
   "execution_count": 12,
   "metadata": {},
   "outputs": [
    {
     "name": "stdout",
     "output_type": "stream",
     "text": [
      "15\n"
     ]
    }
   ],
   "source": [
    "def doSum(alist):\n",
    "    sumval = 0\n",
    "    for l in alist:\n",
    "        sumval = sumval + l\n",
    "    return sumval\n",
    "mylist = [1,2,3,4,5]\n",
    "print(doSum(mylist))"
   ]
  },
  {
   "cell_type": "code",
   "execution_count": 14,
   "metadata": {},
   "outputs": [
    {
     "ename": "ValueError",
     "evalue": "invalid literal for int() with base 10: '1, 2, 3, 3, 3, 3, 4, 5'",
     "output_type": "error",
     "traceback": [
      "\u001b[1;31m---------------------------------------------------------------------------\u001b[0m",
      "\u001b[1;31mValueError\u001b[0m                                Traceback (most recent call last)",
      "Cell \u001b[1;32mIn[14], line 9\u001b[0m\n\u001b[0;32m      6\u001b[0m             unique_elements\u001b[38;5;241m.\u001b[39mappend(item)\n\u001b[0;32m      8\u001b[0m     \u001b[38;5;28;01mreturn\u001b[39;00m unique_elements\n\u001b[1;32m----> 9\u001b[0m sample_list \u001b[38;5;241m=\u001b[39m [\u001b[38;5;28;43mint\u001b[39;49m\u001b[43m(\u001b[49m\u001b[38;5;28;43minput\u001b[39;49m\u001b[43m(\u001b[49m\u001b[38;5;124;43m\"\u001b[39;49m\u001b[38;5;124;43menter a list: \u001b[39;49m\u001b[38;5;124;43m\"\u001b[39;49m\u001b[43m)\u001b[49m\u001b[43m)\u001b[49m]\n\u001b[0;32m     10\u001b[0m result \u001b[38;5;241m=\u001b[39m unique_list(sample_list)\n\u001b[0;32m     11\u001b[0m \u001b[38;5;28mprint\u001b[39m(\u001b[38;5;124m\"\u001b[39m\u001b[38;5;124mUnique List:\u001b[39m\u001b[38;5;124m\"\u001b[39m, result)\n",
      "\u001b[1;31mValueError\u001b[0m: invalid literal for int() with base 10: '1, 2, 3, 3, 3, 3, 4, 5'"
     ]
    }
   ],
   "source": [
    "def unique_list(input_list):\n",
    "    unique_elements = []\n",
    "    for item in input_list:\n",
    "        # Add the element to the unique_elements list if it's not already present\n",
    "        if item not in unique_elements:\n",
    "            unique_elements.append(item)\n",
    "\n",
    "    return unique_elements\n",
    "sample_list = [int(input(\"enter a list: \"))]\n",
    "result = unique_list(sample_list)\n",
    "print(\"Unique List:\", result)"
   ]
  },
  {
   "cell_type": "code",
   "execution_count": 19,
   "metadata": {},
   "outputs": [
    {
     "name": "stdout",
     "output_type": "stream",
     "text": [
      "3 is a prime number.\n"
     ]
    }
   ],
   "source": [
    "n = int(input(\"Please enter a whole number: \"))\n",
    "if n ==1: # is the number is one, exit the script\n",
    "    print(\"1 is not a prime number.\")\n",
    "else:\n",
    "    for i in range (2,n):\n",
    "        if n%i == 0: #check if divisible with a remainder\n",
    "            print(n, \"is not a prime number.\") # no remainder\n",
    "            break\n",
    "        elif i == n-1: #always a remainder, not divisible\n",
    "            print(n, \"is a prime number.\")"
   ]
  }
 ],
 "metadata": {
  "kernelspec": {
   "display_name": "Python 3",
   "language": "python",
   "name": "python3"
  },
  "language_info": {
   "codemirror_mode": {
    "name": "ipython",
    "version": 3
   },
   "file_extension": ".py",
   "mimetype": "text/x-python",
   "name": "python",
   "nbconvert_exporter": "python",
   "pygments_lexer": "ipython3",
   "version": "3.12.2"
  }
 },
 "nbformat": 4,
 "nbformat_minor": 2
}
